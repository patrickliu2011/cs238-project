{
 "cells": [
  {
   "cell_type": "code",
   "execution_count": 7,
   "metadata": {},
   "outputs": [],
   "source": [
    "import gymnasium as gym\n",
    "import numpy as np\n",
    "import time\n",
    "import tqdm"
   ]
  },
  {
   "attachments": {},
   "cell_type": "markdown",
   "metadata": {},
   "source": [
    "# FrozenLake-v1 environment\n",
    "\n",
    "4x4 or 8x8 map\n",
    "\n",
    "Environment action space:  \n",
    "`env.action_space: Discrete(4)`\n",
    "0 = Left  \n",
    "1 = Down  \n",
    "2 = Right  \n",
    "3 = Up  \n",
    "\n",
    "Observation space:  \n",
    "`env.observation_space: Discrete(nrows * ncols)`\n",
    "index = row * ncols + col  \n",
    "\n",
    "Transition\n",
    "`env.unwrapped.P: Dict[int: Dict[int: List[Tuple[float, int, float, bool]]]]`  \n",
    "`state` (int: 0 - nrows * ncols)  \n",
    "&emsp;--> `action` (int: 0-3)  \n",
    "&emsp;&emsp;--> [  \n",
    "&emsp;&emsp;(  \n",
    "&emsp;&emsp;&emsp;`p` (float: 0-1),  \n",
    "&emsp;&emsp;&emsp;`next_state` (int: 0 - nrows * ncols),  \n",
    "&emsp;&emsp;&emsp;`reward` (float),  \n",
    "&emsp;&emsp;&emsp;`terminate` (bool)),  \n",
    "&emsp;&emsp;...]  \n",
    "\n",
    "Map:\n",
    "`env.unwrapped.desc: np.ndarray((nrows, ncols))`\n",
    "'S' = Starting position, default is (0, 0)\n",
    "'G' = Goal, default is (nrows-1, ncols-1)\n",
    "'F' = Floor\n",
    "'H' = Hole"
   ]
  },
  {
   "cell_type": "code",
   "execution_count": 9,
   "metadata": {},
   "outputs": [
    {
     "name": "stdout",
     "output_type": "stream",
     "text": [
      "Discrete(4)\n",
      "Discrete(16)\n"
     ]
    }
   ],
   "source": [
    "env_kwargs = {\"desc\": None, \"map_name\": \"4x4\", \"is_slippery\": False}\n",
    "env = gym.make('FrozenLake-v1', **env_kwargs)\n",
    "env_render = gym.make('FrozenLake-v1', **env_kwargs, render_mode=\"human\")\n",
    "print(env.action_space)\n",
    "print(env.observation_space)"
   ]
  },
  {
   "cell_type": "code",
   "execution_count": 10,
   "metadata": {},
   "outputs": [
    {
     "data": {
      "text/plain": [
       "{0: [(1.0, 4, 0.0, False)],\n",
       " 1: [(1.0, 8, 0.0, False)],\n",
       " 2: [(1.0, 5, 0.0, True)],\n",
       " 3: [(1.0, 0, 0.0, False)]}"
      ]
     },
     "execution_count": 10,
     "metadata": {},
     "output_type": "execute_result"
    }
   ],
   "source": [
    "env.unwrapped.P[4]"
   ]
  },
  {
   "cell_type": "code",
   "execution_count": 14,
   "metadata": {},
   "outputs": [
    {
     "data": {
      "text/plain": [
       "array([[b'S', b'F', b'F', b'F'],\n",
       "       [b'F', b'H', b'F', b'H'],\n",
       "       [b'F', b'F', b'F', b'H'],\n",
       "       [b'H', b'F', b'F', b'G']], dtype='|S1')"
      ]
     },
     "execution_count": 14,
     "metadata": {},
     "output_type": "execute_result"
    }
   ],
   "source": [
    "env.unwrapped.desc"
   ]
  },
  {
   "cell_type": "code",
   "execution_count": 31,
   "metadata": {},
   "outputs": [
    {
     "data": {
      "text/plain": [
       "{'F': [(0, 1),\n",
       "  (0, 2),\n",
       "  (0, 3),\n",
       "  (1, 0),\n",
       "  (1, 2),\n",
       "  (2, 0),\n",
       "  (2, 1),\n",
       "  (2, 2),\n",
       "  (3, 1),\n",
       "  (3, 2)],\n",
       " 'G': [(3, 3)],\n",
       " 'H': [(1, 1), (1, 3), (2, 3), (3, 0)],\n",
       " 'S': [(0, 0)]}"
      ]
     },
     "execution_count": 31,
     "metadata": {},
     "output_type": "execute_result"
    }
   ],
   "source": [
    "map = env.unwrapped.desc.astype(str)\n",
    "nrows, ncols = map.shape\n",
    "tile_locations = {}\n",
    "for tp in np.unique(map):\n",
    "    tile_locations[tp] = list(zip(*[arr.tolist() for arr in np.where(map == tp)]))\n",
    "tile_locations\n"
   ]
  },
  {
   "cell_type": "code",
   "execution_count": 32,
   "metadata": {},
   "outputs": [],
   "source": [
    "assert(len(tile_locations[\"S\"]) == 1)\n",
    "assert(len(tile_locations[\"G\"]) == 1)"
   ]
  },
  {
   "cell_type": "code",
   "execution_count": 118,
   "metadata": {},
   "outputs": [
    {
     "ename": "IndexError",
     "evalue": "only integers, slices (`:`), ellipsis (`...`), numpy.newaxis (`None`) and integer or boolean arrays are valid indices",
     "output_type": "error",
     "traceback": [
      "\u001b[0;31m---------------------------------------------------------------------------\u001b[0m",
      "\u001b[0;31mIndexError\u001b[0m                                Traceback (most recent call last)",
      "\u001b[1;32m/Users/patrickliu/Documents/cs238-project/env.ipynb Cell 8\u001b[0m in \u001b[0;36m<cell line: 35>\u001b[0;34m()\u001b[0m\n\u001b[1;32m     <a href='vscode-notebook-cell:/Users/patrickliu/Documents/cs238-project/env.ipynb#X35sZmlsZQ%3D%3D?line=20'>21</a>\u001b[0m     padded_map \u001b[39m=\u001b[39m np\u001b[39m.\u001b[39mpad(\u001b[39mmap\u001b[39m, \u001b[39m1\u001b[39m, mode\u001b[39m=\u001b[39m\u001b[39m\"\u001b[39m\u001b[39mconstant\u001b[39m\u001b[39m\"\u001b[39m, constant_values\u001b[39m=\u001b[39mpad_tile_id)\n\u001b[1;32m     <a href='vscode-notebook-cell:/Users/patrickliu/Documents/cs238-project/env.ipynb#X35sZmlsZQ%3D%3D?line=22'>23</a>\u001b[0m     \u001b[39mreturn\u001b[39;00m {\n\u001b[1;32m     <a href='vscode-notebook-cell:/Users/patrickliu/Documents/cs238-project/env.ipynb#X35sZmlsZQ%3D%3D?line=23'>24</a>\u001b[0m         \u001b[39m\"\u001b[39m\u001b[39mnrows\u001b[39m\u001b[39m\"\u001b[39m: nrows,\n\u001b[1;32m     <a href='vscode-notebook-cell:/Users/patrickliu/Documents/cs238-project/env.ipynb#X35sZmlsZQ%3D%3D?line=24'>25</a>\u001b[0m         \u001b[39m\"\u001b[39m\u001b[39mncols\u001b[39m\u001b[39m\"\u001b[39m: ncols,\n\u001b[0;32m   (...)\u001b[0m\n\u001b[1;32m     <a href='vscode-notebook-cell:/Users/patrickliu/Documents/cs238-project/env.ipynb#X35sZmlsZQ%3D%3D?line=32'>33</a>\u001b[0m         \u001b[39m\"\u001b[39m\u001b[39mtile_type_ids\u001b[39m\u001b[39m\"\u001b[39m: tile_type_ids,\n\u001b[1;32m     <a href='vscode-notebook-cell:/Users/patrickliu/Documents/cs238-project/env.ipynb#X35sZmlsZQ%3D%3D?line=33'>34</a>\u001b[0m     }\n\u001b[0;32m---> <a href='vscode-notebook-cell:/Users/patrickliu/Documents/cs238-project/env.ipynb#X35sZmlsZQ%3D%3D?line=34'>35</a>\u001b[0m env_data \u001b[39m=\u001b[39m get_env_data(env)\n",
      "\u001b[1;32m/Users/patrickliu/Documents/cs238-project/env.ipynb Cell 8\u001b[0m in \u001b[0;36mget_env_data\u001b[0;34m(env, pad_tile)\u001b[0m\n\u001b[1;32m      <a href='vscode-notebook-cell:/Users/patrickliu/Documents/cs238-project/env.ipynb#X35sZmlsZQ%3D%3D?line=1'>2</a>\u001b[0m \u001b[39mmap\u001b[39m \u001b[39m=\u001b[39m env\u001b[39m.\u001b[39munwrapped\u001b[39m.\u001b[39mdesc\u001b[39m.\u001b[39mastype(\u001b[39mstr\u001b[39m)\n\u001b[1;32m      <a href='vscode-notebook-cell:/Users/patrickliu/Documents/cs238-project/env.ipynb#X35sZmlsZQ%3D%3D?line=2'>3</a>\u001b[0m nrows, ncols \u001b[39m=\u001b[39m \u001b[39mmap\u001b[39m\u001b[39m.\u001b[39mshape\n\u001b[0;32m----> <a href='vscode-notebook-cell:/Users/patrickliu/Documents/cs238-project/env.ipynb#X35sZmlsZQ%3D%3D?line=4'>5</a>\u001b[0m \u001b[39mmap\u001b[39m[\u001b[39m\"\u001b[39m\u001b[39mS\u001b[39m\u001b[39m\"\u001b[39m] \u001b[39m=\u001b[39m \u001b[39m\"\u001b[39m\u001b[39mF\u001b[39m\u001b[39m\"\u001b[39m \u001b[39m# Remove start tile\u001b[39;00m\n\u001b[1;32m      <a href='vscode-notebook-cell:/Users/patrickliu/Documents/cs238-project/env.ipynb#X35sZmlsZQ%3D%3D?line=5'>6</a>\u001b[0m tile_types \u001b[39m=\u001b[39m \u001b[39msorted\u001b[39m(np\u001b[39m.\u001b[39munique(\u001b[39mmap\u001b[39m)\u001b[39m.\u001b[39mtolist())\n\u001b[1;32m      <a href='vscode-notebook-cell:/Users/patrickliu/Documents/cs238-project/env.ipynb#X35sZmlsZQ%3D%3D?line=6'>7</a>\u001b[0m \u001b[39mif\u001b[39;00m pad_tile \u001b[39mnot\u001b[39;00m \u001b[39min\u001b[39;00m tile_types:\n",
      "\u001b[0;31mIndexError\u001b[0m: only integers, slices (`:`), ellipsis (`...`), numpy.newaxis (`None`) and integer or boolean arrays are valid indices"
     ]
    }
   ],
   "source": [
    "def get_env_data(env, pad_tile=\"B\"):\n",
    "    map = env.unwrapped.desc.astype(str)\n",
    "    nrows, ncols = map.shape\n",
    "    \n",
    "    map[\"S\"] = \"F\" # Remove start tile\n",
    "    tile_types = sorted(np.unique(map).tolist())\n",
    "    if pad_tile not in tile_types:\n",
    "        tile_types.append(pad_tile)\n",
    "    tile_type_ids = {tp: i for i, tp in enumerate(tile_types)}\n",
    "    assert len(tile_types) == len(np.unique(tile_types)), \"Tile types should be unique.\"\n",
    "\n",
    "    map_to_idmap = np.vectorize(lambda x: tile_type_ids[x])\n",
    "    map = map_to_idmap(map).astype(int)\n",
    "\n",
    "    tile_locations = {}\n",
    "    for id in tile_type_ids.values():\n",
    "        tile_locations[id] = list(zip(*[arr.tolist() for arr in np.where(map == id)]))\n",
    "    assert len(tile_locations[tile_type_ids[\"G\"]]) == 1, \"There should be exactly one goal tile.\"\n",
    "\n",
    "    pad_tile_id = tile_type_ids[pad_tile]\n",
    "    padded_map = np.pad(map, 1, mode=\"constant\", constant_values=pad_tile_id)\n",
    "\n",
    "    return {\n",
    "        \"nrows\": nrows,\n",
    "        \"ncols\": ncols,\n",
    "        \"map\": map,\n",
    "        \"padded_map\": padded_map,\n",
    "        \"pad_tile\": pad_tile,\n",
    "        \"pad_tile_id\": pad_tile_id,\n",
    "        \"nholes\": len(tile_locations[tile_type_ids[\"H\"]]),\n",
    "        \"tile_locations\": tile_locations,\n",
    "        \"tile_types\": tile_types,\n",
    "        \"tile_type_ids\": tile_type_ids,\n",
    "    }\n",
    "env_data = get_env_data(env)"
   ]
  },
  {
   "cell_type": "code",
   "execution_count": 119,
   "metadata": {},
   "outputs": [
    {
     "data": {
      "text/plain": [
       "{'nrows': 4,\n",
       " 'ncols': 4,\n",
       " 'map': array([[3, 0, 0, 0],\n",
       "        [0, 2, 0, 2],\n",
       "        [0, 0, 0, 2],\n",
       "        [2, 0, 0, 1]]),\n",
       " 'padded_map': array([[4, 4, 4, 4, 4, 4],\n",
       "        [4, 3, 0, 0, 0, 4],\n",
       "        [4, 0, 2, 0, 2, 4],\n",
       "        [4, 0, 0, 0, 2, 4],\n",
       "        [4, 2, 0, 0, 1, 4],\n",
       "        [4, 4, 4, 4, 4, 4]]),\n",
       " 'pad_tile': 'B',\n",
       " 'pad_tile_id': 4,\n",
       " 'nholes': 4,\n",
       " 'tile_locations': {0: [(0, 1),\n",
       "   (0, 2),\n",
       "   (0, 3),\n",
       "   (1, 0),\n",
       "   (1, 2),\n",
       "   (2, 0),\n",
       "   (2, 1),\n",
       "   (2, 2),\n",
       "   (3, 1),\n",
       "   (3, 2)],\n",
       "  1: [(3, 3)],\n",
       "  2: [(1, 1), (1, 3), (2, 3), (3, 0)],\n",
       "  3: [(0, 0)],\n",
       "  4: []},\n",
       " 'tile_types': ['F', 'G', 'H', 'S', 'B'],\n",
       " 'tile_type_ids': {'F': 0, 'G': 1, 'H': 2, 'S': 3, 'B': 4}}"
      ]
     },
     "execution_count": 119,
     "metadata": {},
     "output_type": "execute_result"
    }
   ],
   "source": [
    "env_data"
   ]
  },
  {
   "cell_type": "code",
   "execution_count": 120,
   "metadata": {},
   "outputs": [
    {
     "name": "stdout",
     "output_type": "stream",
     "text": [
      "(1, 1)\n",
      "12\n"
     ]
    }
   ],
   "source": [
    "def pos2coord(pos, env_data):\n",
    "    \"\"\"Convert position to coordinates.\"\"\"\n",
    "    return np.unravel_index(pos, (env_data[\"nrows\"], env_data[\"ncols\"]))\n",
    "\n",
    "def coord2pos(coord, env_data):\n",
    "    \"\"\"Convert coordinates to position.\"\"\"\n",
    "    return np.ravel_multi_index(coord, (env_data[\"nrows\"], env_data[\"ncols\"]))\n",
    "print(pos2coord(5, env_data))\n",
    "print(coord2pos((3, 0), env_data))"
   ]
  },
  {
   "cell_type": "code",
   "execution_count": 121,
   "metadata": {},
   "outputs": [
    {
     "data": {
      "text/plain": [
       "array([[4, 4, 4],\n",
       "       [4, 3, 0],\n",
       "       [4, 0, 2]])"
      ]
     },
     "execution_count": 121,
     "metadata": {},
     "output_type": "execute_result"
    }
   ],
   "source": [
    "def get_tile_type(pos, env_data):\n",
    "    \"\"\"Get tile type at position.\"\"\"\n",
    "    return env_data[\"map\"][pos2coord(pos, env_data)]\n",
    "\n",
    "def get_tile_neighbors(pos, env_data, radius=1):\n",
    "    \"\"\"Get neighbors of tile at position.\"\"\"\n",
    "    coord = np.array(pos2coord(pos, env_data)) + 1\n",
    "    dcoord = np.arange(-radius, radius + 1).astype(int)\n",
    "    ix = np.ix_(*[coord[i] + dcoord for i in range(len(coord))])\n",
    "    return env_data[\"padded_map\"][ix]\n",
    "\n",
    "get_tile_neighbors(0, env_data, radius=1)"
   ]
  },
  {
   "cell_type": "code",
   "execution_count": 124,
   "metadata": {},
   "outputs": [
    {
     "data": {
      "text/plain": [
       "array([1., 0., 0., 0., 0., 0., 0., 0., 0., 0., 0., 0., 0., 0., 0., 0., 0.,\n",
       "       0., 0., 0., 1., 0., 0., 0., 0., 1., 0., 0., 0., 0., 1., 0., 0., 0.,\n",
       "       0., 1., 0., 0., 0., 1., 0., 1., 0., 0., 0., 0., 0., 0., 0., 0., 1.,\n",
       "       1., 0., 0., 0., 0., 0., 0., 1., 0., 0.])"
      ]
     },
     "execution_count": 124,
     "metadata": {},
     "output_type": "execute_result"
    }
   ],
   "source": [
    "def pos_to_onehot(pos, env_data):\n",
    "    \"\"\"Convert position to one-hot vector.\"\"\"\n",
    "    return np.eye(np.size(env_data[\"map\"]))[pos]\n",
    "\n",
    "def tile_id_to_onehot(tile_id, env_data):\n",
    "    \"\"\"Convert tile id to one-hot vector.\"\"\"\n",
    "    return np.eye(len(env_data[\"tile_types\"]))[tile_id]\n",
    "\n",
    "def state_to_observation_human(state, env_data):\n",
    "    \"\"\"Convert state (position index) to observation for human agent.\"\"\"\n",
    "    position = pos_to_onehot(state, env_data)\n",
    "    neighbors = get_tile_neighbors(state, env_data, radius=1)\n",
    "    neighbors = tile_id_to_onehot(neighbors.flatten(), env_data)\n",
    "    observation = np.concatenate([position, neighbors.flatten()])\n",
    "    return observation\n",
    "\n",
    "def state_to_observation_ai(state, env_data):\n",
    "    \"\"\"Convert state (position index) to observation for AI agent.\"\"\"\n",
    "    position = pos_to_onehot(state, env_data)\n",
    "    neighbors = get_tile_neighbors(state, env_data, radius=1, invisible_tiles=invisible_tiles)\n",
    "    neighbors = tile_id_to_onehot(neighbors.flatten(), env_data)\n",
    "    observation = np.concatenate([position, neighbors.flatten()])\n",
    "    return observation\n",
    "\n",
    "state_to_observation_human(0, env_data)"
   ]
  },
  {
   "cell_type": "code",
   "execution_count": 20,
   "metadata": {},
   "outputs": [
    {
     "name": "stderr",
     "output_type": "stream",
     "text": [
      " 38%|███▊      | 38/100 [00:20<00:33,  1.85it/s]\n"
     ]
    },
    {
     "ename": "KeyboardInterrupt",
     "evalue": "",
     "output_type": "error",
     "traceback": [
      "\u001b[0;31m---------------------------------------------------------------------------\u001b[0m",
      "\u001b[0;31mKeyboardInterrupt\u001b[0m                         Traceback (most recent call last)",
      "\u001b[1;32m/Users/patrickliu/Documents/cs238-project/train.ipynb Cell 8\u001b[0m in \u001b[0;36m<cell line: 4>\u001b[0;34m()\u001b[0m\n\u001b[1;32m      <a href='vscode-notebook-cell:/Users/patrickliu/Documents/cs238-project/train.ipynb#W4sZmlsZQ%3D%3D?line=2'>3</a>\u001b[0m observation, info \u001b[39m=\u001b[39m env\u001b[39m.\u001b[39mreset(seed\u001b[39m=\u001b[39m\u001b[39m42\u001b[39m)\n\u001b[1;32m      <a href='vscode-notebook-cell:/Users/patrickliu/Documents/cs238-project/train.ipynb#W4sZmlsZQ%3D%3D?line=3'>4</a>\u001b[0m \u001b[39mfor\u001b[39;00m _ \u001b[39min\u001b[39;00m tqdm\u001b[39m.\u001b[39mtqdm(\u001b[39mrange\u001b[39m(\u001b[39m100\u001b[39m)):\n\u001b[0;32m----> <a href='vscode-notebook-cell:/Users/patrickliu/Documents/cs238-project/train.ipynb#W4sZmlsZQ%3D%3D?line=4'>5</a>\u001b[0m     env\u001b[39m.\u001b[39;49mrender()\n\u001b[1;32m      <a href='vscode-notebook-cell:/Users/patrickliu/Documents/cs238-project/train.ipynb#W4sZmlsZQ%3D%3D?line=5'>6</a>\u001b[0m     time\u001b[39m.\u001b[39msleep(\u001b[39m0.01\u001b[39m)\n\u001b[1;32m      <a href='vscode-notebook-cell:/Users/patrickliu/Documents/cs238-project/train.ipynb#W4sZmlsZQ%3D%3D?line=6'>7</a>\u001b[0m     obs \u001b[39m=\u001b[39m torch\u001b[39m.\u001b[39mnn\u001b[39m.\u001b[39mfunctional\u001b[39m.\u001b[39mone_hot(torch\u001b[39m.\u001b[39mLongTensor([observation]), num_classes\u001b[39m=\u001b[39mstate_dim)\n",
      "File \u001b[0;32m~/opt/miniconda3/envs/cs238_project/lib/python3.10/site-packages/gymnasium/core.py:371\u001b[0m, in \u001b[0;36mWrapper.render\u001b[0;34m(self)\u001b[0m\n\u001b[1;32m    369\u001b[0m \u001b[39mdef\u001b[39;00m \u001b[39mrender\u001b[39m(\u001b[39mself\u001b[39m) \u001b[39m-\u001b[39m\u001b[39m>\u001b[39m RenderFrame \u001b[39m|\u001b[39m \u001b[39mlist\u001b[39m[RenderFrame] \u001b[39m|\u001b[39m \u001b[39mNone\u001b[39;00m:\n\u001b[1;32m    370\u001b[0m     \u001b[39m\"\"\"Uses the :meth:`render` of the :attr:`env` that can be overwritten to change the returned data.\"\"\"\u001b[39;00m\n\u001b[0;32m--> 371\u001b[0m     \u001b[39mreturn\u001b[39;00m \u001b[39mself\u001b[39;49m\u001b[39m.\u001b[39;49menv\u001b[39m.\u001b[39;49mrender()\n",
      "File \u001b[0;32m~/opt/miniconda3/envs/cs238_project/lib/python3.10/site-packages/gymnasium/wrappers/order_enforcing.py:52\u001b[0m, in \u001b[0;36mOrderEnforcing.render\u001b[0;34m(self, *args, **kwargs)\u001b[0m\n\u001b[1;32m     47\u001b[0m \u001b[39mif\u001b[39;00m \u001b[39mnot\u001b[39;00m \u001b[39mself\u001b[39m\u001b[39m.\u001b[39m_disable_render_order_enforcing \u001b[39mand\u001b[39;00m \u001b[39mnot\u001b[39;00m \u001b[39mself\u001b[39m\u001b[39m.\u001b[39m_has_reset:\n\u001b[1;32m     48\u001b[0m     \u001b[39mraise\u001b[39;00m ResetNeeded(\n\u001b[1;32m     49\u001b[0m         \u001b[39m\"\u001b[39m\u001b[39mCannot call `env.render()` before calling `env.reset()`, if this is a intended action, \u001b[39m\u001b[39m\"\u001b[39m\n\u001b[1;32m     50\u001b[0m         \u001b[39m\"\u001b[39m\u001b[39mset `disable_render_order_enforcing=True` on the OrderEnforcer wrapper.\u001b[39m\u001b[39m\"\u001b[39m\n\u001b[1;32m     51\u001b[0m     )\n\u001b[0;32m---> 52\u001b[0m \u001b[39mreturn\u001b[39;00m \u001b[39mself\u001b[39;49m\u001b[39m.\u001b[39;49menv\u001b[39m.\u001b[39;49mrender(\u001b[39m*\u001b[39;49margs, \u001b[39m*\u001b[39;49m\u001b[39m*\u001b[39;49mkwargs)\n",
      "File \u001b[0;32m~/opt/miniconda3/envs/cs238_project/lib/python3.10/site-packages/gymnasium/wrappers/env_checker.py:55\u001b[0m, in \u001b[0;36mPassiveEnvChecker.render\u001b[0;34m(self, *args, **kwargs)\u001b[0m\n\u001b[1;32m     53\u001b[0m     \u001b[39mreturn\u001b[39;00m env_render_passive_checker(\u001b[39mself\u001b[39m\u001b[39m.\u001b[39menv, \u001b[39m*\u001b[39margs, \u001b[39m*\u001b[39m\u001b[39m*\u001b[39mkwargs)\n\u001b[1;32m     54\u001b[0m \u001b[39melse\u001b[39;00m:\n\u001b[0;32m---> 55\u001b[0m     \u001b[39mreturn\u001b[39;00m \u001b[39mself\u001b[39;49m\u001b[39m.\u001b[39;49menv\u001b[39m.\u001b[39;49mrender(\u001b[39m*\u001b[39;49margs, \u001b[39m*\u001b[39;49m\u001b[39m*\u001b[39;49mkwargs)\n",
      "File \u001b[0;32m~/opt/miniconda3/envs/cs238_project/lib/python3.10/site-packages/gymnasium/envs/toy_text/frozen_lake.py:338\u001b[0m, in \u001b[0;36mFrozenLakeEnv.render\u001b[0;34m(self)\u001b[0m\n\u001b[1;32m    336\u001b[0m     \u001b[39mreturn\u001b[39;00m \u001b[39mself\u001b[39m\u001b[39m.\u001b[39m_render_text()\n\u001b[1;32m    337\u001b[0m \u001b[39melse\u001b[39;00m:  \u001b[39m# self.render_mode in {\"human\", \"rgb_array\"}:\u001b[39;00m\n\u001b[0;32m--> 338\u001b[0m     \u001b[39mreturn\u001b[39;00m \u001b[39mself\u001b[39;49m\u001b[39m.\u001b[39;49m_render_gui(\u001b[39mself\u001b[39;49m\u001b[39m.\u001b[39;49mrender_mode)\n",
      "File \u001b[0;32m~/opt/miniconda3/envs/cs238_project/lib/python3.10/site-packages/gymnasium/envs/toy_text/frozen_lake.py:432\u001b[0m, in \u001b[0;36mFrozenLakeEnv._render_gui\u001b[0;34m(self, mode)\u001b[0m\n\u001b[1;32m    430\u001b[0m     pygame\u001b[39m.\u001b[39mevent\u001b[39m.\u001b[39mpump()\n\u001b[1;32m    431\u001b[0m     pygame\u001b[39m.\u001b[39mdisplay\u001b[39m.\u001b[39mupdate()\n\u001b[0;32m--> 432\u001b[0m     \u001b[39mself\u001b[39;49m\u001b[39m.\u001b[39;49mclock\u001b[39m.\u001b[39;49mtick(\u001b[39mself\u001b[39;49m\u001b[39m.\u001b[39;49mmetadata[\u001b[39m\"\u001b[39;49m\u001b[39mrender_fps\u001b[39;49m\u001b[39m\"\u001b[39;49m])\n\u001b[1;32m    433\u001b[0m \u001b[39melif\u001b[39;00m mode \u001b[39m==\u001b[39m \u001b[39m\"\u001b[39m\u001b[39mrgb_array\u001b[39m\u001b[39m\"\u001b[39m:\n\u001b[1;32m    434\u001b[0m     \u001b[39mreturn\u001b[39;00m np\u001b[39m.\u001b[39mtranspose(\n\u001b[1;32m    435\u001b[0m         np\u001b[39m.\u001b[39marray(pygame\u001b[39m.\u001b[39msurfarray\u001b[39m.\u001b[39mpixels3d(\u001b[39mself\u001b[39m\u001b[39m.\u001b[39mwindow_surface)), axes\u001b[39m=\u001b[39m(\u001b[39m1\u001b[39m, \u001b[39m0\u001b[39m, \u001b[39m2\u001b[39m)\n\u001b[1;32m    436\u001b[0m     )\n",
      "\u001b[0;31mKeyboardInterrupt\u001b[0m: "
     ]
    }
   ],
   "source": [
    "env = gym.make('FrozenLake-v1', desc=None, map_name=\"4x4\", is_slippery=False,\n",
    "               render_mode=\"human\")\n",
    "env_data = get_env_data(env)\n",
    "observation, info = env.reset(seed=42)\n",
    "for _ in tqdm.tqdm(range(100)):\n",
    "    env.render()\n",
    "    time.sleep(0.01)\n",
    "    action = env.action_space.sample()\n",
    "    observation, reward, terminated, truncated, info = env.step(action)\n",
    "\n",
    "    if terminated or truncated:\n",
    "        time.sleep(0.2)\n",
    "        observation, info = env.reset()\n",
    "env.render()\n",
    "env.close()"
   ]
  },
  {
   "cell_type": "code",
   "execution_count": null,
   "metadata": {},
   "outputs": [],
   "source": []
  }
 ],
 "metadata": {
  "kernelspec": {
   "display_name": "Python 3",
   "language": "python",
   "name": "python3"
  },
  "language_info": {
   "codemirror_mode": {
    "name": "ipython",
    "version": 3
   },
   "file_extension": ".py",
   "mimetype": "text/x-python",
   "name": "python",
   "nbconvert_exporter": "python",
   "pygments_lexer": "ipython3",
   "version": "3.10.9"
  },
  "orig_nbformat": 4,
  "vscode": {
   "interpreter": {
    "hash": "2929eb5138b423e0ec7030b8c0ed63055737814243b9eb5441befd19ce14c390"
   }
  }
 },
 "nbformat": 4,
 "nbformat_minor": 2
}
