{
 "cells": [
  {
   "cell_type": "code",
   "execution_count": null,
   "metadata": {},
   "outputs": [],
   "source": [
    "import gymnasium as gym\n",
    "import time\n",
    "import torch\n",
    "import ppo"
   ]
  },
  {
   "cell_type": "code",
   "execution_count": null,
   "metadata": {},
   "outputs": [],
   "source": [
    "env = gym.make('FrozenLake-v1', desc=None, map_name=\"4x4\", is_slippery=True)\n",
    "print(env.action_space)\n",
    "print(env.observation_space)"
   ]
  },
  {
   "cell_type": "code",
   "execution_count": null,
   "metadata": {},
   "outputs": [],
   "source": [
    "state_dim = env.observation_space.n\n",
    "action_dim = env.action_space.n\n",
    "lr_actor = 1e-3\n",
    "lr_critic = 1e-3\n",
    "gamma = 0.99\n",
    "K_epochs = 5\n",
    "eps_clip = 0.2\n",
    "has_continuous_action_space = False\n",
    "action_std_init = 1\n",
    "\n",
    "ppo_agent = ppo.PPO(\n",
    "    state_dim, action_dim, \n",
    "    lr_actor, lr_critic, \n",
    "    gamma, K_epochs, eps_clip, \n",
    "    has_continuous_action_space, \n",
    "    action_std_init)"
   ]
  },
  {
   "cell_type": "code",
   "execution_count": null,
   "metadata": {},
   "outputs": [],
   "source": [
    "time_step = 0\n",
    "max_training_timesteps = 1000\n",
    "max_ep_len = 100\n",
    "update_timestep = 5\n",
    "print_freq = 10\n",
    "\n",
    "while time_step <= max_training_timesteps:\n",
    "    observation, info = env.reset()\n",
    "    current_ep_reward = 0\n",
    "\n",
    "    for t in range(1, max_ep_len+1):\n",
    "        \n",
    "        # select action with policy\n",
    "        obs = torch.nn.functional.one_hot(torch.LongTensor([observation]), num_classes=state_dim)\n",
    "        action = ppo_agent.select_action(obs.float().squeeze(0))\n",
    "        observation, reward, terminated, truncated, info = env.step(action)\n",
    "        \n",
    "        # saving reward and is_terminals\n",
    "        ppo_agent.buffer.rewards.append(reward)\n",
    "        ppo_agent.buffer.is_terminals.append(terminated)\n",
    "        \n",
    "        time_step += 1\n",
    "        current_ep_reward += reward\n",
    "\n",
    "        # update PPO agent\n",
    "        if time_step % update_timestep == 0:\n",
    "            ppo_agent.update()\n",
    "            \n",
    "        # break; if the episode is over\n",
    "        if terminated or truncated:\n",
    "            break\n",
    "env.close()"
   ]
  },
  {
   "cell_type": "code",
   "execution_count": null,
   "metadata": {},
   "outputs": [],
   "source": []
  }
 ],
 "metadata": {
  "kernelspec": {
   "display_name": "Python 3",
   "language": "python",
   "name": "python3"
  },
  "language_info": {
   "codemirror_mode": {
    "name": "ipython",
    "version": 3
   },
   "file_extension": ".py",
   "mimetype": "text/x-python",
   "name": "python",
   "nbconvert_exporter": "python",
   "pygments_lexer": "ipython3",
   "version": "3.10.9"
  },
  "orig_nbformat": 4,
  "vscode": {
   "interpreter": {
    "hash": "2929eb5138b423e0ec7030b8c0ed63055737814243b9eb5441befd19ce14c390"
   }
  }
 },
 "nbformat": 4,
 "nbformat_minor": 2
}
